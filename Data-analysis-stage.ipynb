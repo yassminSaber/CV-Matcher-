{
 "cells": [
  {
   "cell_type": "code",
   "execution_count": 23,
   "metadata": {},
   "outputs": [],
   "source": [
    "from wordcloud import WordCloud\n",
    "import pandas as pd \n",
    "import re \n",
    "from nltk.tokenize import word_tokenize\n",
    "import matplotlib.pylab as plt \n",
    "import numpy as np\n",
    "import nltk\n",
    "from nltk.stem import PorterStemmer\n",
    "import matplotlib.pyplot as plt\n",
    "import plotly.express as px"
   ]
  },
  {
   "cell_type": "markdown",
   "metadata": {},
   "source": [
    "#### Read Data "
   ]
  },
  {
   "cell_type": "code",
   "execution_count": 2,
   "metadata": {},
   "outputs": [
    {
     "name": "stdout",
     "output_type": "stream",
     "text": [
      "shape of the data:  (341, 6)\n"
     ]
    },
    {
     "data": {
      "text/html": [
       "<div>\n",
       "<style scoped>\n",
       "    .dataframe tbody tr th:only-of-type {\n",
       "        vertical-align: middle;\n",
       "    }\n",
       "\n",
       "    .dataframe tbody tr th {\n",
       "        vertical-align: top;\n",
       "    }\n",
       "\n",
       "    .dataframe thead th {\n",
       "        text-align: right;\n",
       "    }\n",
       "</style>\n",
       "<table border=\"1\" class=\"dataframe\">\n",
       "  <thead>\n",
       "    <tr style=\"text-align: right;\">\n",
       "      <th></th>\n",
       "      <th>Unnamed: 0</th>\n",
       "      <th>job_title</th>\n",
       "      <th>company_name</th>\n",
       "      <th>job_location</th>\n",
       "      <th>job_requirement</th>\n",
       "      <th>job_description</th>\n",
       "    </tr>\n",
       "  </thead>\n",
       "  <tbody>\n",
       "    <tr>\n",
       "      <th>0</th>\n",
       "      <td>0</td>\n",
       "      <td>Software Engineer</td>\n",
       "      <td>qTech.  -</td>\n",
       "      <td>Mansoura, Dakahlia, Egypt</td>\n",
       "      <td>More than 1 year of experience.Bachelor’s degr...</td>\n",
       "      <td>Using the software as intended to analyze its ...</td>\n",
       "    </tr>\n",
       "    <tr>\n",
       "      <th>1</th>\n",
       "      <td>1</td>\n",
       "      <td>Software Engineer</td>\n",
       "      <td>HITS Solutions -</td>\n",
       "      <td>Nasr City, Cairo, Egypt</td>\n",
       "      <td>Job Requirements:Bachelor’s Degree in computer...</td>\n",
       "      <td>General duties and responsibilities:Design, bu...</td>\n",
       "    </tr>\n",
       "    <tr>\n",
       "      <th>2</th>\n",
       "      <td>2</td>\n",
       "      <td>Software Engineer</td>\n",
       "      <td>Noases -</td>\n",
       "      <td>Cairo, Egypt</td>\n",
       "      <td>Bachelor of Science degree or higher in Compu...</td>\n",
       "      <td>Understand the problem and requirements and cr...</td>\n",
       "    </tr>\n",
       "    <tr>\n",
       "      <th>3</th>\n",
       "      <td>3</td>\n",
       "      <td>Software Engineer</td>\n",
       "      <td>SE Wiring Systems EGYPT -</td>\n",
       "      <td>6th of October, Giza, Egypt</td>\n",
       "      <td>Bachelor degree in computer scienceFresh gradu...</td>\n",
       "      <td>Support both the IT manager &amp; Central IT engin...</td>\n",
       "    </tr>\n",
       "    <tr>\n",
       "      <th>4</th>\n",
       "      <td>4</td>\n",
       "      <td>Software Engineer</td>\n",
       "      <td>eelu -</td>\n",
       "      <td>Dokki, Giza, Egypt</td>\n",
       "      <td>Qualifications:BSc degree from Telecommunicati...</td>\n",
       "      <td>Responsible for all network and security relat...</td>\n",
       "    </tr>\n",
       "  </tbody>\n",
       "</table>\n",
       "</div>"
      ],
      "text/plain": [
       "   Unnamed: 0          job_title               company_name  \\\n",
       "0           0  Software Engineer                  qTech.  -   \n",
       "1           1  Software Engineer           HITS Solutions -   \n",
       "2           2  Software Engineer                   Noases -   \n",
       "3           3  Software Engineer  SE Wiring Systems EGYPT -   \n",
       "4           4  Software Engineer                     eelu -   \n",
       "\n",
       "                   job_location  \\\n",
       "0    Mansoura, Dakahlia, Egypt    \n",
       "1      Nasr City, Cairo, Egypt    \n",
       "2                 Cairo, Egypt    \n",
       "3  6th of October, Giza, Egypt    \n",
       "4           Dokki, Giza, Egypt    \n",
       "\n",
       "                                     job_requirement  \\\n",
       "0  More than 1 year of experience.Bachelor’s degr...   \n",
       "1  Job Requirements:Bachelor’s Degree in computer...   \n",
       "2   Bachelor of Science degree or higher in Compu...   \n",
       "3  Bachelor degree in computer scienceFresh gradu...   \n",
       "4  Qualifications:BSc degree from Telecommunicati...   \n",
       "\n",
       "                                     job_description  \n",
       "0  Using the software as intended to analyze its ...  \n",
       "1  General duties and responsibilities:Design, bu...  \n",
       "2  Understand the problem and requirements and cr...  \n",
       "3  Support both the IT manager & Central IT engin...  \n",
       "4  Responsible for all network and security relat...  "
      ]
     },
     "execution_count": 2,
     "metadata": {},
     "output_type": "execute_result"
    }
   ],
   "source": [
    "jobs_data = pd.read_csv(\"jobs.csv\")\n",
    "print(\"shape of the data: \" , jobs_data.shape)\n",
    "jobs_data.head(5)"
   ]
  },
  {
   "cell_type": "markdown",
   "metadata": {},
   "source": [
    "#### Geographic distribution. "
   ]
  },
  {
   "cell_type": "code",
   "execution_count": 3,
   "metadata": {},
   "outputs": [],
   "source": [
    "counter = 0\n",
    "cities = []\n",
    "locations = []\n",
    "count_list = {}\n",
    "\n",
    "location = jobs_data.iloc[:,3]\n",
    "\n",
    "for l in location:\n",
    "    tokens = word_tokenize(l.lower())\n",
    "    tokens = [token for token in tokens if token.isalpha()]\n",
    "    locations.append(tokens)\n",
    "\n",
    "for lo in locations:\n",
    "    try:\n",
    "        cities.append(lo[-2])\n",
    "    except IndexError:\n",
    "        continue\n",
    "        # print(lo)\n",
    "\n",
    "citiesDF = pd.DataFrame(cities)\n",
    "citiesDF.columns = [\"cities\"]\n",
    "\n",
    "codes = citiesDF[\"cities\"].unique()\n",
    "codes_np = np.array(list(codes))\n",
    "\n",
    "citiesDF_np = np.array(citiesDF)\n",
    "\n",
    "for code in codes_np:\n",
    "    for city in citiesDF_np :\n",
    "        if city[0] == code:\n",
    "            counter+=1 \n",
    "    count_list.update({\n",
    "        code : counter\n",
    "    })\n",
    "    counter = 0  \n",
    "\n",
    "# count_list = dict(sorted(count_list.items(), key=lambda item: item[1],reverse=True))\n",
    "chosen_city = [\"cairo\",\"giza\",\"alexandria\",\"sharqia\",\"dakahlia\",\"damietta\",\"gharbia\",\"minya\",\"suef\",\"assiut\",\"beheira\",\"said\",\"sinai\"]\n",
    "counting = []\n",
    "for item in chosen_city:\n",
    "    counting.append(count_list[item])"
   ]
  },
  {
   "cell_type": "code",
   "execution_count": 4,
   "metadata": {},
   "outputs": [
    {
     "data": {
      "image/png": "[encoded data removed]",
      "text/plain": [
       "<Figure size 1500x500 with 1 Axes>"
      ]
     },
     "metadata": {},
     "output_type": "display_data"
    }
   ],
   "source": [
    "plt.figure(figsize=(15,5))\n",
    "plt.bar(chosen_city,counting)\n",
    "plt.xticks(rotation = 50)\n",
    "plt.show()"
   ]
  },
  {
   "cell_type": "code",
   "execution_count": 22,
   "metadata": {},
   "outputs": [
    {
     "data": {
      "application/vnd.plotly.v1+json": {
       "config": {
        "plotlyServerURL": "https://plot.ly"
       },
       "data": [
        {
         "coloraxis": "coloraxis",
         "hovertemplate": "City: %{x}<br>y: %{y}<br>color: %{z}<extra></extra>",
         "name": "0",
         "type": "heatmap",
         "x": [
          "cairo",
          "giza",
          "alexandria",
          "sharqia",
          "dakahlia",
          "damietta",
          "gharbia",
          "minya",
          "suef",
          "assiut",
          "beheira",
          "said",
          "sinai"
         ],
         "xaxis": "x",
         "yaxis": "y",
         "z": [
          [
           137,
           53,
           14,
           6,
           2,
           2,
           1,
           1,
           1,
           1,
           1,
           1,
           1
          ]
         ]
        }
       ],
       "layout": {
        "coloraxis": {
         "colorscale": [
          [
           0,
           "#0d0887"
          ],
          [
           0.1111111111111111,
           "#46039f"
          ],
          [
           0.2222222222222222,
           "#7201a8"
          ],
          [
           0.3333333333333333,
           "#9c179e"
          ],
          [
           0.4444444444444444,
           "#bd3786"
          ],
          [
           0.5555555555555556,
           "#d8576b"
          ],
          [
           0.6666666666666666,
           "#ed7953"
          ],
          [
           0.7777777777777778,
           "#fb9f3a"
          ],
          [
           0.8888888888888888,
           "#fdca26"
          ],
          [
           1,
           "#f0f921"
          ]
         ]
        },
        "margin": {
         "t": 60
        },
        "template": {
         "data": {
          "bar": [
           {
            "error_x": {
             "color": "#2a3f5f"
            },
            "error_y": {
             "color": "#2a3f5f"
            },
            "marker": {
             "line": {
              "color": "#E5ECF6",
              "width": 0.5
             },
             "pattern": {
              "fillmode": "overlay",
              "size": 10,
              "solidity": 0.2
             }
            },
            "type": "bar"
           }
          ],
          "barpolar": [
           {
            "marker": {
             "line": {
              "color": "#E5ECF6",
              "width": 0.5
             },
             "pattern": {
              "fillmode": "overlay",
              "size": 10,
              "solidity": 0.2
             }
            },
            "type": "barpolar"
           }
          ],
          "carpet": [
           {
            "aaxis": {
             "endlinecolor": "#2a3f5f",
             "gridcolor": "white",
             "linecolor": "white",
             "minorgridcolor": "white",
             "startlinecolor": "#2a3f5f"
            },
            "baxis": {
             "endlinecolor": "#2a3f5f",
             "gridcolor": "white",
             "linecolor": "white",
             "minorgridcolor": "white",
             "startlinecolor": "#2a3f5f"
            },
            "type": "carpet"
           }
          ],
          "choropleth": [
           {
            "colorbar": {
             "outlinewidth": 0,
             "ticks": ""
            },
            "type": "choropleth"
           }
          ],
          "contour": [
           {
            "colorbar": {
             "outlinewidth": 0,
             "ticks": ""
            },
            "colorscale": [
             [
              0,
              "#0d0887"
             ],
             [
              0.1111111111111111,
              "#46039f"
             ],
             [
              0.2222222222222222,
              "#7201a8"
             ],
             [
              0.3333333333333333,
              "#9c179e"
             ],
             [
              0.4444444444444444,
              "#bd3786"
             ],
             [
              0.5555555555555556,
              "#d8576b"
             ],
             [
              0.6666666666666666,
              "#ed7953"
             ],
             [
              0.7777777777777778,
              "#fb9f3a"
             ],
             [
              0.8888888888888888,
              "#fdca26"
             ],
             [
              1,
              "#f0f921"
             ]
            ],
            "type": "contour"
           }
          ],
          "contourcarpet": [
           {
            "colorbar": {
             "outlinewidth": 0,
             "ticks": ""
            },
            "type": "contourcarpet"
           }
          ],
          "heatmap": [
           {
            "colorbar": {
             "outlinewidth": 0,
             "ticks": ""
            },
            "colorscale": [
             [
              0,
              "#0d0887"
             ],
             [
              0.1111111111111111,
              "#46039f"
             ],
             [
              0.2222222222222222,
              "#7201a8"
             ],
             [
              0.3333333333333333,
              "#9c179e"
             ],
             [
              0.4444444444444444,
              "#bd3786"
             ],
             [
              0.5555555555555556,
              "#d8576b"
             ],
             [
              0.6666666666666666,
              "#ed7953"
             ],
             [
              0.7777777777777778,
              "#fb9f3a"
             ],
             [
              0.8888888888888888,
              "#fdca26"
             ],
             [
              1,
              "#f0f921"
             ]
            ],
            "type": "heatmap"
           }
          ],
          "heatmapgl": [
           {
            "colorbar": {
             "outlinewidth": 0,
             "ticks": ""
            },
            "colorscale": [
             [
              0,
              "#0d0887"
             ],
             [
              0.1111111111111111,
              "#46039f"
             ],
             [
              0.2222222222222222,
              "#7201a8"
             ],
             [
              0.3333333333333333,
              "#9c179e"
             ],
             [
              0.4444444444444444,
              "#bd3786"
             ],
             [
              0.5555555555555556,
              "#d8576b"
             ],
             [
              0.6666666666666666,
              "#ed7953"
             ],
             [
              0.7777777777777778,
              "#fb9f3a"
             ],
             [
              0.8888888888888888,
              "#fdca26"
             ],
             [
              1,
              "#f0f921"
             ]
            ],
            "type": "heatmapgl"
           }
          ],
          "histogram": [
           {
            "marker": {
             "pattern": {
              "fillmode": "overlay",
              "size": 10,
              "solidity": 0.2
             }
            },
            "type": "histogram"
           }
          ],
          "histogram2d": [
           {
            "colorbar": {
             "outlinewidth": 0,
             "ticks": ""
            },
            "colorscale": [
             [
              0,
              "#0d0887"
             ],
             [
              0.1111111111111111,
              "#46039f"
             ],
             [
              0.2222222222222222,
              "#7201a8"
             ],
             [
              0.3333333333333333,
              "#9c179e"
             ],
             [
              0.4444444444444444,
              "#bd3786"
             ],
             [
              0.5555555555555556,
              "#d8576b"
             ],
             [
              0.6666666666666666,
              "#ed7953"
             ],
             [
              0.7777777777777778,
              "#fb9f3a"
             ],
             [
              0.8888888888888888,
              "#fdca26"
             ],
             [
              1,
              "#f0f921"
             ]
            ],
            "type": "histogram2d"
           }
          ],
          "histogram2dcontour": [
           {
            "colorbar": {
             "outlinewidth": 0,
             "ticks": ""
            },
            "colorscale": [
             [
              0,
              "#0d0887"
             ],
             [
              0.1111111111111111,
              "#46039f"
             ],
             [
              0.2222222222222222,
              "#7201a8"
             ],
             [
              0.3333333333333333,
              "#9c179e"
             ],
             [
              0.4444444444444444,
              "#bd3786"
             ],
             [
              0.5555555555555556,
              "#d8576b"
             ],
             [
              0.6666666666666666,
              "#ed7953"
             ],
             [
              0.7777777777777778,
              "#fb9f3a"
             ],
             [
              0.8888888888888888,
              "#fdca26"
             ],
             [
              1,
              "#f0f921"
             ]
            ],
            "type": "histogram2dcontour"
           }
          ],
          "mesh3d": [
           {
            "colorbar": {
             "outlinewidth": 0,
             "ticks": ""
            },
            "type": "mesh3d"
           }
          ],
          "parcoords": [
           {
            "line": {
             "colorbar": {
              "outlinewidth": 0,
              "ticks": ""
             }
            },
            "type": "parcoords"
           }
          ],
          "pie": [
           {
            "automargin": true,
            "type": "pie"
           }
          ],
          "scatter": [
           {
            "fillpattern": {
             "fillmode": "overlay",
             "size": 10,
             "solidity": 0.2
            },
            "type": "scatter"
           }
          ],
          "scatter3d": [
           {
            "line": {
             "colorbar": {
              "outlinewidth": 0,
              "ticks": ""
             }
            },
            "marker": {
             "colorbar": {
              "outlinewidth": 0,
              "ticks": ""
             }
            },
            "type": "scatter3d"
           }
          ],
          "scattercarpet": [
           {
            "marker": {
             "colorbar": {
              "outlinewidth": 0,
              "ticks": ""
             }
            },
            "type": "scattercarpet"
           }
          ],
          "scattergeo": [
           {
            "marker": {
             "colorbar": {
              "outlinewidth": 0,
              "ticks": ""
             }
            },
            "type": "scattergeo"
           }
          ],
          "scattergl": [
           {
            "marker": {
             "colorbar": {
              "outlinewidth": 0,
              "ticks": ""
             }
            },
            "type": "scattergl"
           }
          ],
          "scattermapbox": [
           {
            "marker": {
             "colorbar": {
              "outlinewidth": 0,
              "ticks": ""
             }
            },
            "type": "scattermapbox"
           }
          ],
          "scatterpolar": [
           {
            "marker": {
             "colorbar": {
              "outlinewidth": 0,
              "ticks": ""
             }
            },
            "type": "scatterpolar"
           }
          ],
          "scatterpolargl": [
           {
            "marker": {
             "colorbar": {
              "outlinewidth": 0,
              "ticks": ""
             }
            },
            "type": "scatterpolargl"
           }
          ],
          "scatterternary": [
           {
            "marker": {
             "colorbar": {
              "outlinewidth": 0,
              "ticks": ""
             }
            },
            "type": "scatterternary"
           }
          ],
          "surface": [
           {
            "colorbar": {
             "outlinewidth": 0,
             "ticks": ""
            },
            "colorscale": [
             [
              0,
              "#0d0887"
             ],
             [
              0.1111111111111111,
              "#46039f"
             ],
             [
              0.2222222222222222,
              "#7201a8"
             ],
             [
              0.3333333333333333,
              "#9c179e"
             ],
             [
              0.4444444444444444,
              "#bd3786"
             ],
             [
              0.5555555555555556,
              "#d8576b"
             ],
             [
              0.6666666666666666,
              "#ed7953"
             ],
             [
              0.7777777777777778,
              "#fb9f3a"
             ],
             [
              0.8888888888888888,
              "#fdca26"
             ],
             [
              1,
              "#f0f921"
             ]
            ],
            "type": "surface"
           }
          ],
          "table": [
           {
            "cells": {
             "fill": {
              "color": "#EBF0F8"
             },
             "line": {
              "color": "white"
             }
            },
            "header": {
             "fill": {
              "color": "#C8D4E3"
             },
             "line": {
              "color": "white"
             }
            },
            "type": "table"
           }
          ]
         },
         "layout": {
          "annotationdefaults": {
           "arrowcolor": "#2a3f5f",
           "arrowhead": 0,
           "arrowwidth": 1
          },
          "autotypenumbers": "strict",
          "coloraxis": {
           "colorbar": {
            "outlinewidth": 0,
            "ticks": ""
           }
          },
          "colorscale": {
           "diverging": [
            [
             0,
             "#8e0152"
            ],
            [
             0.1,
             "#c51b7d"
            ],
            [
             0.2,
             "#de77ae"
            ],
            [
             0.3,
             "#f1b6da"
            ],
            [
             0.4,
             "#fde0ef"
            ],
            [
             0.5,
             "#f7f7f7"
            ],
            [
             0.6,
             "#e6f5d0"
            ],
            [
             0.7,
             "#b8e186"
            ],
            [
             0.8,
             "#7fbc41"
            ],
            [
             0.9,
             "#4d9221"
            ],
            [
             1,
             "#276419"
            ]
           ],
           "sequential": [
            [
             0,
             "#0d0887"
            ],
            [
             0.1111111111111111,
             "#46039f"
            ],
            [
             0.2222222222222222,
             "#7201a8"
            ],
            [
             0.3333333333333333,
             "#9c179e"
            ],
            [
             0.4444444444444444,
             "#bd3786"
            ],
            [
             0.5555555555555556,
             "#d8576b"
            ],
            [
             0.6666666666666666,
             "#ed7953"
            ],
            [
             0.7777777777777778,
             "#fb9f3a"
            ],
            [
             0.8888888888888888,
             "#fdca26"
            ],
            [
             1,
             "#f0f921"
            ]
           ],
           "sequentialminus": [
            [
             0,
             "#0d0887"
            ],
            [
             0.1111111111111111,
             "#46039f"
            ],
            [
             0.2222222222222222,
             "#7201a8"
            ],
            [
             0.3333333333333333,
             "#9c179e"
            ],
            [
             0.4444444444444444,
             "#bd3786"
            ],
            [
             0.5555555555555556,
             "#d8576b"
            ],
            [
             0.6666666666666666,
             "#ed7953"
            ],
            [
             0.7777777777777778,
             "#fb9f3a"
            ],
            [
             0.8888888888888888,
             "#fdca26"
            ],
            [
             1,
             "#f0f921"
            ]
           ]
          },
          "colorway": [
           "#636efa",
           "#EF553B",
           "#00cc96",
           "#ab63fa",
           "#FFA15A",
           "#19d3f3",
           "#FF6692",
           "#B6E880",
           "#FF97FF",
           "#FECB52"
          ],
          "font": {
           "color": "#2a3f5f"
          },
          "geo": {
           "bgcolor": "white",
           "lakecolor": "white",
           "landcolor": "#E5ECF6",
           "showlakes": true,
           "showland": true,
           "subunitcolor": "white"
          },
          "hoverlabel": {
           "align": "left"
          },
          "hovermode": "closest",
          "mapbox": {
           "style": "light"
          },
          "paper_bgcolor": "white",
          "plot_bgcolor": "#E5ECF6",
          "polar": {
           "angularaxis": {
            "gridcolor": "white",
            "linecolor": "white",
            "ticks": ""
           },
           "bgcolor": "#E5ECF6",
           "radialaxis": {
            "gridcolor": "white",
            "linecolor": "white",
            "ticks": ""
           }
          },
          "scene": {
           "xaxis": {
            "backgroundcolor": "#E5ECF6",
            "gridcolor": "white",
            "gridwidth": 2,
            "linecolor": "white",
            "showbackground": true,
            "ticks": "",
            "zerolinecolor": "white"
           },
           "yaxis": {
            "backgroundcolor": "#E5ECF6",
            "gridcolor": "white",
            "gridwidth": 2,
            "linecolor": "white",
            "showbackground": true,
            "ticks": "",
            "zerolinecolor": "white"
           },
           "zaxis": {
            "backgroundcolor": "#E5ECF6",
            "gridcolor": "white",
            "gridwidth": 2,
            "linecolor": "white",
            "showbackground": true,
            "ticks": "",
            "zerolinecolor": "white"
           }
          },
          "shapedefaults": {
           "line": {
            "color": "#2a3f5f"
           }
          },
          "ternary": {
           "aaxis": {
            "gridcolor": "white",
            "linecolor": "white",
            "ticks": ""
           },
           "baxis": {
            "gridcolor": "white",
            "linecolor": "white",
            "ticks": ""
           },
           "bgcolor": "#E5ECF6",
           "caxis": {
            "gridcolor": "white",
            "linecolor": "white",
            "ticks": ""
           }
          },
          "title": {
           "x": 0.05
          },
          "xaxis": {
           "automargin": true,
           "gridcolor": "white",
           "linecolor": "white",
           "ticks": "",
           "title": {
            "standoff": 15
           },
           "zerolinecolor": "white",
           "zerolinewidth": 2
          },
          "yaxis": {
           "automargin": true,
           "gridcolor": "white",
           "linecolor": "white",
           "ticks": "",
           "title": {
            "standoff": 15
           },
           "zerolinecolor": "white",
           "zerolinewidth": 2
          }
         }
        },
        "xaxis": {
         "anchor": "y",
         "constrain": "domain",
         "domain": [
          0,
          1
         ],
         "scaleanchor": "y",
         "title": {
          "text": "City"
         }
        },
        "yaxis": {
         "anchor": "x",
         "autorange": "reversed",
         "constrain": "domain",
         "domain": [
          0,
          1
         ]
        }
       }
      }
     },
     "metadata": {},
     "output_type": "display_data"
    }
   ],
   "source": [
    "l = []\n",
    "l.append(counting)\n",
    "fig = px.imshow(l,x=chosen_city,labels=dict(x = 'City'))\n",
    "fig.show()  "
   ]
  },
  {
   "cell_type": "markdown",
   "metadata": {},
   "source": [
    "#### Most common job title"
   ]
  },
  {
   "cell_type": "code",
   "execution_count": 6,
   "metadata": {},
   "outputs": [
    {
     "name": "stdout",
     "output_type": "stream",
     "text": [
      "jobs title and number of each job valid:\n",
      "Customer Service     120\n",
      "Accountant            81\n",
      "Web Developer         57\n",
      "Civil Engineer        56\n",
      "Software Engineer     25\n",
      "Flutter Developer      2\n",
      "Name: job_title, dtype: int64\n"
     ]
    }
   ],
   "source": [
    "jobsNum = jobs_data[\"job_title\"].value_counts()\n",
    "print(\"jobs title and number of each job valid:\")\n",
    "print(jobsNum.sort_values(ascending=False))"
   ]
  },
  {
   "cell_type": "code",
   "execution_count": 7,
   "metadata": {},
   "outputs": [
    {
     "data": {
      "image/png": "[encoded data removed]",
      "text/plain": [
       "<Figure size 640x480 with 1 Axes>"
      ]
     },
     "metadata": {},
     "output_type": "display_data"
    }
   ],
   "source": [
    "jobsName = [\"Customer Service\",\"Accountant\", 'Web Developer','Civil Engineer','Software Engineer','Flutter Developer']\n",
    "\n",
    "colors = plt.get_cmap('Blues')(np.linspace(0.2, 0.7, len(jobsName)))\n",
    "plt.pie(jobsNum,colors=colors,labels=jobsName,startangle=90,radius=2,autopct='%1.1f%%')\n",
    "plt.legend()\n",
    "plt.show()  \n"
   ]
  },
  {
   "cell_type": "code",
   "execution_count": 8,
   "metadata": {},
   "outputs": [
    {
     "data": {
      "image/png": "[encoded data removed]",
      "text/plain": [
       "<Figure size 1500x700 with 1 Axes>"
      ]
     },
     "metadata": {},
     "output_type": "display_data"
    }
   ],
   "source": [
    "plt.figure(figsize=(15, 7))\n",
    "plt.xticks(rotation = 50)\n",
    "plt.bar(jobsName,jobsNum)\n",
    "plt.show()"
   ]
  },
  {
   "cell_type": "markdown",
   "metadata": {},
   "source": [
    "### Cleaning Data"
   ]
  },
  {
   "cell_type": "code",
   "execution_count": 9,
   "metadata": {},
   "outputs": [
    {
     "name": "stdout",
     "output_type": "stream",
     "text": [
      "Null values:  Unnamed: 0          0\n",
      "job_title           0\n",
      "company_name        0\n",
      "job_location        0\n",
      "job_requirement    11\n",
      "job_description     4\n",
      "dtype: int64\n",
      "number of duplicates rows:  0\n"
     ]
    }
   ],
   "source": [
    "# check for null values \n",
    "print(\"Null values: \",jobs_data.isnull().sum())\n",
    "\n",
    "duplicates = jobs_data[jobs_data.duplicated()]\n",
    "print(\"number of duplicates rows: \", len(duplicates))"
   ]
  },
  {
   "cell_type": "code",
   "execution_count": 10,
   "metadata": {},
   "outputs": [
    {
     "name": "stdout",
     "output_type": "stream",
     "text": [
      "new shape:  (326, 6)\n"
     ]
    },
    {
     "data": {
      "text/html": [
       "<div>\n",
       "<style scoped>\n",
       "    .dataframe tbody tr th:only-of-type {\n",
       "        vertical-align: middle;\n",
       "    }\n",
       "\n",
       "    .dataframe tbody tr th {\n",
       "        vertical-align: top;\n",
       "    }\n",
       "\n",
       "    .dataframe thead th {\n",
       "        text-align: right;\n",
       "    }\n",
       "</style>\n",
       "<table border=\"1\" class=\"dataframe\">\n",
       "  <thead>\n",
       "    <tr style=\"text-align: right;\">\n",
       "      <th></th>\n",
       "      <th>Unnamed: 0</th>\n",
       "      <th>job_title</th>\n",
       "      <th>company_name</th>\n",
       "      <th>job_location</th>\n",
       "      <th>job_requirement</th>\n",
       "      <th>job_description</th>\n",
       "    </tr>\n",
       "  </thead>\n",
       "  <tbody>\n",
       "    <tr>\n",
       "      <th>0</th>\n",
       "      <td>0</td>\n",
       "      <td>Software Engineer</td>\n",
       "      <td>qTech.  -</td>\n",
       "      <td>Mansoura, Dakahlia, Egypt</td>\n",
       "      <td>More than 1 year of experience.Bachelor’s degr...</td>\n",
       "      <td>Using the software as intended to analyze its ...</td>\n",
       "    </tr>\n",
       "    <tr>\n",
       "      <th>1</th>\n",
       "      <td>1</td>\n",
       "      <td>Software Engineer</td>\n",
       "      <td>HITS Solutions -</td>\n",
       "      <td>Nasr City, Cairo, Egypt</td>\n",
       "      <td>Job Requirements:Bachelor’s Degree in computer...</td>\n",
       "      <td>General duties and responsibilities:Design, bu...</td>\n",
       "    </tr>\n",
       "    <tr>\n",
       "      <th>2</th>\n",
       "      <td>2</td>\n",
       "      <td>Software Engineer</td>\n",
       "      <td>Noases -</td>\n",
       "      <td>Cairo, Egypt</td>\n",
       "      <td>Bachelor of Science degree or higher in Compu...</td>\n",
       "      <td>Understand the problem and requirements and cr...</td>\n",
       "    </tr>\n",
       "    <tr>\n",
       "      <th>3</th>\n",
       "      <td>3</td>\n",
       "      <td>Software Engineer</td>\n",
       "      <td>SE Wiring Systems EGYPT -</td>\n",
       "      <td>6th of October, Giza, Egypt</td>\n",
       "      <td>Bachelor degree in computer scienceFresh gradu...</td>\n",
       "      <td>Support both the IT manager &amp; Central IT engin...</td>\n",
       "    </tr>\n",
       "    <tr>\n",
       "      <th>4</th>\n",
       "      <td>4</td>\n",
       "      <td>Software Engineer</td>\n",
       "      <td>eelu -</td>\n",
       "      <td>Dokki, Giza, Egypt</td>\n",
       "      <td>Qualifications:BSc degree from Telecommunicati...</td>\n",
       "      <td>Responsible for all network and security relat...</td>\n",
       "    </tr>\n",
       "  </tbody>\n",
       "</table>\n",
       "</div>"
      ],
      "text/plain": [
       "   Unnamed: 0          job_title               company_name  \\\n",
       "0           0  Software Engineer                  qTech.  -   \n",
       "1           1  Software Engineer           HITS Solutions -   \n",
       "2           2  Software Engineer                   Noases -   \n",
       "3           3  Software Engineer  SE Wiring Systems EGYPT -   \n",
       "4           4  Software Engineer                     eelu -   \n",
       "\n",
       "                   job_location  \\\n",
       "0    Mansoura, Dakahlia, Egypt    \n",
       "1      Nasr City, Cairo, Egypt    \n",
       "2                 Cairo, Egypt    \n",
       "3  6th of October, Giza, Egypt    \n",
       "4           Dokki, Giza, Egypt    \n",
       "\n",
       "                                     job_requirement  \\\n",
       "0  More than 1 year of experience.Bachelor’s degr...   \n",
       "1  Job Requirements:Bachelor’s Degree in computer...   \n",
       "2   Bachelor of Science degree or higher in Compu...   \n",
       "3  Bachelor degree in computer scienceFresh gradu...   \n",
       "4  Qualifications:BSc degree from Telecommunicati...   \n",
       "\n",
       "                                     job_description  \n",
       "0  Using the software as intended to analyze its ...  \n",
       "1  General duties and responsibilities:Design, bu...  \n",
       "2  Understand the problem and requirements and cr...  \n",
       "3  Support both the IT manager & Central IT engin...  \n",
       "4  Responsible for all network and security relat...  "
      ]
     },
     "execution_count": 10,
     "metadata": {},
     "output_type": "execute_result"
    }
   ],
   "source": [
    "jobs_data.dropna(subset=[\"job_description\"],inplace=True)\n",
    "jobs_data.dropna(subset=[\"job_requirement\"],inplace=True)\n",
    "\n",
    "print(\"new shape: \", jobs_data.shape)\n",
    "jobs_data.head(5)"
   ]
  },
  {
   "cell_type": "code",
   "execution_count": 11,
   "metadata": {},
   "outputs": [],
   "source": [
    "### clean the job description from stop words ###\n",
    "def text_preprocessing(text: list,\n",
    "        punctuations=r'''!()-[]{};:'\"\\,<>./?@$%^&*_“~''',\n",
    "        stop_words=['and', 'a', 'is', 'the', 'in', 'be', 'will', 'was', 'but','this',\n",
    "                    'were', 'with', 'of', 'also',\n",
    "                    'on', '.', 'for', 'any', 'its', 'and', 'are', 'from', 'both', 'as','or','so','their','only','can',\n",
    "                    'now','A','much','could','usually',\"to\",'that','them','$','§','”','at','●','←','…','•','–']) -> list:\n",
    "    \n",
    "    for x in text.lower():\n",
    "        if x in punctuations:\n",
    "            text = text.replace(x, \"\")\n",
    "\n",
    "    text = re.sub(r'\\w*\\d\\w*', '', text)\n",
    "    text = re.sub(r'[0-9]+', '', text)\n",
    "    text = re.sub(r'\\s+', ' ', text).strip()\n",
    "    text = text.lower()\n",
    "    text = text.split(' ')\n",
    "    text = [x for x in text if x != '']\n",
    "    text = [x for x in text if x not in stop_words]\n",
    "\n",
    "    return text\n",
    "\n",
    "def create_unique_word_dict(text: list) -> dict:\n",
    "    words = list(set(text))\n",
    "    words.sort()\n",
    "\n",
    "    unique_word_dict = []\n",
    "    for i, word in enumerate(words):\n",
    "        unique_word_dict.append(word)\n",
    "\n",
    "    return unique_word_dict\n"
   ]
  },
  {
   "cell_type": "code",
   "execution_count": 12,
   "metadata": {},
   "outputs": [
    {
     "name": "stderr",
     "output_type": "stream",
     "text": [
      "[nltk_data] Downloading package punkt to\n",
      "[nltk_data]     C:\\Users\\yasme\\AppData\\Roaming\\nltk_data...\n",
      "[nltk_data]   Package punkt is already up-to-date!\n"
     ]
    }
   ],
   "source": [
    "Description =  []\n",
    "Requirements = []\n",
    "\n",
    "job_description = jobs_data.iloc[:,5].to_list()\n",
    "job_requirements = jobs_data.iloc[:,4].to_list()\n",
    "## 1. Exctract words\n",
    "for i in range(jobs_data.shape[0]):\n",
    "    try:    \n",
    "        Description.append(text_preprocessing(job_description[i]))\n",
    "        Requirements.append(text_preprocessing(job_requirements[i]))\n",
    "    except AttributeError:\n",
    "        continue\n",
    "    \n",
    "merged_list = [item for sublist in Requirements for item in sublist]\n",
    "\n",
    "## 2. stemming words\n",
    "nltk.download(\"punkt\")\n",
    "ps = PorterStemmer()\n",
    "for i in range(len(merged_list)):\n",
    "    merged_list[i] = ps.stem(merged_list[i])\n",
    "## 3. unique words \n",
    "uniqueWords = create_unique_word_dict(merged_list)\n",
    "\n",
    "map = {}\n",
    "c = 0\n",
    "for w1 in uniqueWords:\n",
    "    for w2 in merged_list:\n",
    "        if w1 == w2:\n",
    "            c+=1\n",
    "    map.update({\n",
    "        w1: c\n",
    "    })"
   ]
  },
  {
   "cell_type": "markdown",
   "metadata": {},
   "source": [
    "### Skills Frequency"
   ]
  },
  {
   "cell_type": "code",
   "execution_count": 13,
   "metadata": {},
   "outputs": [],
   "source": [
    "skills = [\"c++\",'c#','softwar','python','java','net','sql','databas','git','oop','javascript','css','html','mvc','teamwork',\n",
    "          'bsc','statist','analysi','machin','nosql','xml','node','react','commun','english','listen','account','ms','financi']\n",
    "\n",
    "skills2 = [\"C++\",'C#','software','python','java','.Net','SQL','Databas','Git','OOP','javascript','css','HTML','MVC Model','teamwork',\n",
    "          'Bachelor of CS','statisticals','analysis','ML','NoSQL','xml','Node','react','communication',\n",
    "          'English','listening','accountant','microsoft office','financial']\n",
    "\n",
    "mostPrefered_skills = {}\n",
    "n = len(skills)\n",
    "for i in range(n):\n",
    "    mostPrefered_skills.update({\n",
    "        skills2[i] : map[skills[i]]\n",
    "    })"
   ]
  },
  {
   "cell_type": "code",
   "execution_count": 14,
   "metadata": {},
   "outputs": [
    {
     "data": {
      "image/png": "[encoded data removed]",
      "text/plain": [
       "<Figure size 1500x700 with 1 Axes>"
      ]
     },
     "metadata": {},
     "output_type": "display_data"
    }
   ],
   "source": [
    "y = list(mostPrefered_skills.values())\n",
    "y_np = np.array(y)\n",
    "labels = list(mostPrefered_skills.keys())\n",
    "labels_np = np.array(labels)\n",
    "\n",
    "plt.figure(figsize=(15, 7))\n",
    "plt.xticks(rotation = 50)\n",
    "plt.bar(labels_np,y_np)\n",
    "plt.show()"
   ]
  },
  {
   "cell_type": "code",
   "execution_count": 26,
   "metadata": {},
   "outputs": [
    {
     "data": {
      "text/plain": [
       "dict_keys(['xml', 'teamwork', 'statisticals', 'SQL', 'software', 'react', 'python', 'OOP', 'NoSQL', 'Node', '.Net', 'MVC Model', 'microsoft office', 'ML', 'listening', 'javascript', 'java', 'HTML', 'Git', 'financial', 'English', 'Databas', 'css', 'communication', 'C++', 'C#', 'Bachelor of CS', 'analysis', 'accountant'])"
      ]
     },
     "execution_count": 26,
     "metadata": {},
     "output_type": "execute_result"
    }
   ],
   "source": [
    "s = dict(sorted(mostPrefered_skills.items(),key= lambda item: item[1],reverse=True))\n",
    "s.keys()"
   ]
  },
  {
   "cell_type": "code",
   "execution_count": 15,
   "metadata": {},
   "outputs": [
    {
     "data": {
      "image/png": "[encoded data removed]",
      "text/plain": [
       "<Figure size 640x480 with 1 Axes>"
      ]
     },
     "metadata": {},
     "output_type": "display_data"
    }
   ],
   "source": [
    "mostFrequentSkills = 'XML TeamWork SQL Software'\n",
    "wordcloud = WordCloud().generate(mostFrequentSkills)\n",
    "\n",
    "# Display the generated image:\n",
    "plt.imshow(wordcloud, interpolation='bilinear')\n",
    "plt.axis(\"off\")\n",
    "plt.show()"
   ]
  }
 ],
 "metadata": {
  "kernelspec": {
   "display_name": "Python 3",
   "language": "python",
   "name": "python3"
  },
  "language_info": {
   "codemirror_mode": {
    "name": "ipython",
    "version": 3
   },
   "file_extension": ".py",
   "mimetype": "text/x-python",
   "name": "python",
   "nbconvert_exporter": "python",
   "pygments_lexer": "ipython3",
   "version": "3.11.2"
  }
 },
 "nbformat": 4,
 "nbformat_minor": 2
}
