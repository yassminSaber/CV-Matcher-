{
 "cells": [
  {
   "cell_type": "code",
   "execution_count": 3,
   "metadata": {},
   "outputs": [
    {
     "name": "stderr",
     "output_type": "stream",
     "text": [
      "[nltk_data] Downloading package stopwords to\n",
      "[nltk_data]     C:\\Users\\yasme\\AppData\\Roaming\\nltk_data...\n",
      "[nltk_data]   Package stopwords is already up-to-date!\n",
      "[nltk_data] Downloading package punkt to\n",
      "[nltk_data]     C:\\Users\\yasme\\AppData\\Roaming\\nltk_data...\n",
      "[nltk_data]   Package punkt is already up-to-date!\n"
     ]
    },
    {
     "data": {
      "text/plain": [
       "True"
      ]
     },
     "execution_count": 3,
     "metadata": {},
     "output_type": "execute_result"
    }
   ],
   "source": [
    "import matplotlib.pyplot as plt\n",
    "import numpy as np\n",
    "import pandas as pd\n",
    "from nltk.corpus import stopwords       \n",
    "from nltk.stem import PorterStemmer       \n",
    "import re\n",
    "from pdfminer.high_level import extract_text\n",
    "import nltk\n",
    "from nltk.tokenize import word_tokenize\n",
    "import string\n",
    "nltk.download('stopwords')\n",
    "nltk.download('punkt')"
   ]
  },
  {
   "cell_type": "code",
   "execution_count": 4,
   "metadata": {},
   "outputs": [],
   "source": [
    "data = pd.read_csv(\"jobs.csv\")\n",
    "\n",
    "data.dropna(subset=[\"job_description\"],inplace=True)\n",
    "data.dropna(subset=[\"job_requirement\"],inplace=True)\n",
    "\n",
    "data[\"Info\"] = data.job_description + data.job_requirement\n",
    "\n",
    "swe = data[data[\"job_title\"]=='Software Engineer']\n",
    "web = data[data[\"job_title\"]=='Web Developer']\n",
    "flutter = data[data[\"job_title\"]=='Flutter Developer']\n",
    "Acc = data[data[\"job_title\"]=='Accountant']\n",
    "cs = data[data[\"job_title\"]=='Customer Service']\n",
    "ce = data[data[\"job_title\"]=='Civil Engineer']\n",
    "\n",
    "swe_data = swe[\"Info\"].to_list()\n",
    "web_data =web[\"Info\"].to_list()\n",
    "flutter_data =flutter[\"Info\"].to_list()\n",
    "Acc_data = Acc[\"Info\"].to_list()\n",
    "cs_data = cs[\"Info\"].to_list()\n",
    "ce_data = ce[\"Info\"].to_list()"
   ]
  },
  {
   "cell_type": "markdown",
   "metadata": {},
   "source": [
    "## First approach: Keywords matching "
   ]
  },
  {
   "cell_type": "code",
   "execution_count": 5,
   "metadata": {},
   "outputs": [],
   "source": [
    "def text_preprocessing(text: list,\n",
    "        punctuations=r'''!()-[]{};:'\"\\,<>./?@$%^&*_“~''',\n",
    "        stop_words=['and', 'a', 'is', 'the', 'in', 'be', 'will', 'was', 'but', 'this', 'were', 'with', 'of', 'also',\n",
    "                    'on', '.', 'for', 'any', 'its', 'and', 'are', 'from', 'both', 'as','or','so','their','only','can',\n",
    "                    'now','A','much','could','usually',\"to\",'that','them','$','§','”','at','●','←','…','•','–']\n",
    ") -> list:\n",
    "    \n",
    "    for x in text.lower():\n",
    "        if x in punctuations:\n",
    "            text = text.replace(x, \"\")\n",
    "    ## remove stop words, numbers, punctuation\n",
    "    text = re.sub(r'\\w*\\d\\w*', '', text)\n",
    "    text = re.sub(r'[0-9]+', '', text)\n",
    "    text = re.sub(r'\\s+', ' ', text).strip()\n",
    "    text = text.lower()\n",
    "    text = text.split(' ')\n",
    "    text = [x for x in text if x != '']\n",
    "    text = [x for x in text if x not in stop_words]\n",
    "    \n",
    "    ## stem the words\n",
    "    stemmedList = []\n",
    "    stemmer = PorterStemmer() \n",
    "    for word in text :\n",
    "        stemmedList.append(stemmer.stem(word)) \n",
    "    \n",
    "    ## remove duplicate word in each doc\n",
    "    text.sort()\n",
    "    unique_word_list = []\n",
    "    stopwords_english = stopwords.words('english') \n",
    "    for word in stemmedList:\n",
    "        if( word not in unique_word_list and word not in stopwords_english):\n",
    "            unique_word_list.append(word)\n",
    "\n",
    "    return unique_word_list\n",
    "\n",
    "def Words(classWords):\n",
    "    words = []\n",
    "    for x in classWords:\n",
    "        words.append( text_preprocessing(x))\n",
    "    \n",
    "    merged_list = [item for sublist in words for item in sublist]\n",
    "    final = []\n",
    "    for ww in merged_list:\n",
    "        if ww not in final:\n",
    "            final.append(ww)\n",
    "    \n",
    "    return final"
   ]
  },
  {
   "cell_type": "code",
   "execution_count": 6,
   "metadata": {},
   "outputs": [],
   "source": [
    "def CV_score(classWords,CV_words):\n",
    "    counter = 0\n",
    "    for w1 in CV_words:\n",
    "        for w2 in classWords:\n",
    "                if w1 == w2 :\n",
    "                    counter+=1\n",
    "    result = (counter/len(classWords))\n",
    "    return result"
   ]
  },
  {
   "cell_type": "code",
   "execution_count": 7,
   "metadata": {},
   "outputs": [],
   "source": [
    "swe_words = Words(swe_data)\n",
    "acc_word = Words(Acc_data)\n",
    "web_words = Words(web_data)\n",
    "cs_words = Words(cs_data)\n",
    "flutter_words = Words(flutter_data)\n",
    "ce_words = Words(ce_data)\n",
    "\n",
    "cv = extract_text(\"Yasmine Saber.pdf\")\n",
    "cv_words = text_preprocessing(cv)"
   ]
  },
  {
   "cell_type": "code",
   "execution_count": 8,
   "metadata": {},
   "outputs": [
    {
     "name": "stdout",
     "output_type": "stream",
     "text": [
      "['Software Engineer' 'Web Developer' 'Flutter Developer' 'Accountant'\n",
      " 'Customer Service' 'Civil Engineer']\n"
     ]
    }
   ],
   "source": [
    "titles = data[\"job_title\"].unique()\n",
    "print(titles)"
   ]
  },
  {
   "cell_type": "code",
   "execution_count": 9,
   "metadata": {},
   "outputs": [],
   "source": [
    "swe_score = CV_score(swe_words,cv_words)\n",
    "web_score = CV_score(web_words,cv_words)\n",
    "flutter_score = CV_score(flutter_words,cv_words)\n",
    "acc_score = CV_score(acc_word,cv_words)\n",
    "cs_score = CV_score(cs_words,cv_words)\n",
    "ce_score = CV_score(ce_words,cv_words)\n",
    "\n",
    "Scores = []\n",
    "Scores.append(swe_score)\n",
    "Scores.append(web_score)\n",
    "Scores.append(flutter_score)\n",
    "Scores.append(acc_score)\n",
    "Scores.append(cs_score)\n",
    "Scores.append(ce_score)"
   ]
  },
  {
   "cell_type": "code",
   "execution_count": 10,
   "metadata": {},
   "outputs": [
    {
     "data": {
      "image/png": "[encoded data removed]",
      "text/plain": [
       "<Figure size 1500x500 with 1 Axes>"
      ]
     },
     "metadata": {},
     "output_type": "display_data"
    }
   ],
   "source": [
    "plt.figure(figsize=(15,5))\n",
    "plt.bar(titles,Scores)\n",
    "plt.xticks(rotation = 50)\n",
    "plt.show()"
   ]
  },
  {
   "cell_type": "markdown",
   "metadata": {},
   "source": [
    "## Second approach: Tf-idf matching"
   ]
  },
  {
   "cell_type": "code",
   "execution_count": 11,
   "metadata": {},
   "outputs": [],
   "source": [
    "def preprocess_document(document):\n",
    "    # Tokenization\n",
    "    tokens = word_tokenize(document)\n",
    "    # Lowercase conversion\n",
    "    tokens = [token.lower() for token in tokens]\n",
    "    # Punctuation removal\n",
    "    tokens = [token for token in tokens if token not in string.punctuation]\n",
    "    # Stop word removal\n",
    "    stop_words = set(stopwords.words(\"english\"))\n",
    "    tokens = [token for token in tokens if token not in stop_words]\n",
    "    # Stemming\n",
    "    stemmer = PorterStemmer()\n",
    "    tokens = [stemmer.stem(token) for token in tokens]\n",
    "    return \" \".join(tokens)\n",
    " \n",
    "documents = np.array(data[\"Info\"])\n",
    "preprocessed_documents = [preprocess_document(document) for document in documents]"
   ]
  },
  {
   "cell_type": "code",
   "execution_count": null,
   "metadata": {},
   "outputs": [],
   "source": [
    "vectorizer = TfidfVectorizer()\n",
    "tfidf_matrix = vectorizer.fit_transform(preprocessed_documents)\n",
    " \n",
    "# Convert TF-IDF document term matrix to DataFrame\n",
    "feature_names = vectorizer.get_feature_names_out()\n",
    "df_tfidf = pd.DataFrame(tfidf_matrix.toarray(), columns=feature_names)\n",
    " \n",
    "# print(\"\\nTF-IDF DataFrame:\")\n",
    "# print(df_tfidf)"
   ]
  },
  {
   "cell_type": "code",
   "execution_count": null,
   "metadata": {},
   "outputs": [],
   "source": [
    "new_preprocessed_document = preprocess_document(cv)\n",
    "new_tfidf_vector = vectorizer.transform([new_preprocessed_document])\n",
    " \n",
    "# Convert TF-IDF matrix to DataFrame\n",
    "feature_names = vectorizer.get_feature_names_out()\n",
    "df_tfidf_new = pd.DataFrame(new_tfidf_vector.toarray(), columns=feature_names)\n",
    "\n",
    "# print(\"\\nTF-IDF DataFrame:\")\n",
    "# print(df_tfidf_new)"
   ]
  },
  {
   "cell_type": "code",
   "execution_count": null,
   "metadata": {},
   "outputs": [
    {
     "name": "stdout",
     "output_type": "stream",
     "text": [
      "the most appropriate job is: Software Engineer\n"
     ]
    }
   ],
   "source": [
    "similarity_scores = cosine_similarity(new_tfidf_vector, tfidf_matrix)\n",
    "copy_Score2 = similarity_scores[0].copy()\n",
    "sorted = np.sort(-copy_Score2)\n",
    "maxTen = sorted[0] * -1\n",
    "index = np.where(similarity_scores[0]==maxTen)\n",
    "job = data.iloc[index[0][0]][\"job_title\"]\n",
    "print(\"the most appropriate job is:\",job)"
   ]
  }
 ],
 "metadata": {
  "kernelspec": {
   "display_name": "Python 3",
   "language": "python",
   "name": "python3"
  },
  "language_info": {
   "codemirror_mode": {
    "name": "ipython",
    "version": 3
   },
   "file_extension": ".py",
   "mimetype": "text/x-python",
   "name": "python",
   "nbconvert_exporter": "python",
   "pygments_lexer": "ipython3",
   "version": "3.11.2"
  }
 },
 "nbformat": 4,
 "nbformat_minor": 2
}
