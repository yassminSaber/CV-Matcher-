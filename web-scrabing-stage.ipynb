{
 "cells": [
  {
   "cell_type": "code",
   "execution_count": null,
   "metadata": {},
   "outputs": [],
   "source": [
    "from urllib.request import urlopen\n",
    "import re\n",
    "import requests\n",
    "from bs4 import BeautifulSoup\n",
    "import pandas as pd"
   ]
  },
  {
   "cell_type": "code",
   "execution_count": null,
   "metadata": {},
   "outputs": [],
   "source": [
    "software_engineer = [\n",
    "  \"https://wuzzuf.net/search/jobs/?a=navbl&filters%5Bcareer_level%5D%5B0%5D=Entry%20Level&filters%5Bcountry%5D%5B0%5D=Egypt&filters%5Bpost_date%5D%5B0%5D=within_1_week&filters%5Byears_of_experience_max%5D%5B0%5D=1&filters%5Byears_of_experience_min%5D%5B0%5D=0&q=software%20engineer\",\n",
    "  \"https://wuzzuf.net/search/jobs/?a=navbl&filters%5Bcareer_level%5D%5B0%5D=Entry%20Level&filters%5Bcountry%5D%5B0%5D=Egypt&filters%5Bpost_date%5D%5B0%5D=within_1_week&filters%5Byears_of_experience_max%5D%5B0%5D=1&filters%5Byears_of_experience_min%5D%5B0%5D=0&q=software%20engineer&start=1\"\n",
    "]\n",
    "\n",
    "web_development = [\n",
    "  \"https://wuzzuf.net/search/jobs/?a=navbl%7Cspbl&filters%5Bcareer_level%5D%5B0%5D=Entry%20Level&filters%5Bcountry%5D%5B0%5D=Egypt&filters%5Byears_of_experience_max%5D%5B0%5D=1&filters%5Byears_of_experience_min%5D%5B0%5D=0&q=web%20development\",\n",
    "  \"https://wuzzuf.net/search/jobs/?a=navbl%7Cspbl&filters%5Bcareer_level%5D%5B0%5D=Entry%20Level&filters%5Bcountry%5D%5B0%5D=Egypt&filters%5Byears_of_experience_max%5D%5B0%5D=1&filters%5Byears_of_experience_min%5D%5B0%5D=0&q=web%20development&start=1\",\n",
    "  \"https://wuzzuf.net/search/jobs/?a=navbl%7Cspbl&filters%5Bcareer_level%5D%5B0%5D=Entry%20Level&filters%5Bcountry%5D%5B0%5D=Egypt&filters%5Byears_of_experience_max%5D%5B0%5D=1&filters%5Byears_of_experience_min%5D%5B0%5D=0&q=web%20development&start=2\",\n",
    "  \"https://wuzzuf.net/search/jobs/?a=navbl%7Cspbl&filters%5Bcareer_level%5D%5B0%5D=Entry%20Level&filters%5Bcountry%5D%5B0%5D=Egypt&filters%5Byears_of_experience_max%5D%5B0%5D=1&filters%5Byears_of_experience_min%5D%5B0%5D=0&q=web%20development&start=3\"\n",
    "]\n",
    "\n",
    "flutter_developer = [\"https://wuzzuf.net/search/jobs/?a=navbl%7Cspbl&filters%5Bcareer_level%5D%5B0%5D=Entry%20Level&filters%5Bcountry%5D%5B0%5D=Egypt&q=flutter%20developer\"]\n",
    "\n",
    "Accountant = [\n",
    "  \"https://wuzzuf.net/search/jobs/?a=navbl%7Cspbl&filters%5Bcareer_level%5D%5B0%5D=Entry%20Level&filters%5Bcountry%5D%5B0%5D=Egypt&filters%5Byears_of_experience_max%5D%5B0%5D=1&filters%5Byears_of_experience_min%5D%5B0%5D=0&q=accountant\",\n",
    "  \"https://wuzzuf.net/search/jobs/?a=navbl%7Cspbl&filters%5Bcareer_level%5D%5B0%5D=Entry%20Level&filters%5Bcountry%5D%5B0%5D=Egypt&filters%5Byears_of_experience_max%5D%5B0%5D=1&filters%5Byears_of_experience_min%5D%5B0%5D=0&q=accountant&start=1\",\n",
    "  \"https://wuzzuf.net/search/jobs/?a=navbl%7Cspbl&filters%5Bcareer_level%5D%5B0%5D=Entry%20Level&filters%5Bcountry%5D%5B0%5D=Egypt&filters%5Byears_of_experience_max%5D%5B0%5D=1&filters%5Byears_of_experience_min%5D%5B0%5D=0&q=accountant&start=2\",\n",
    "  \"https://wuzzuf.net/search/jobs/?a=navbl%7Cspbl&filters%5Bcareer_level%5D%5B0%5D=Entry%20Level&filters%5Bcountry%5D%5B0%5D=Egypt&filters%5Byears_of_experience_max%5D%5B0%5D=1&filters%5Byears_of_experience_min%5D%5B0%5D=0&q=accountant&start=3\",\n",
    "  \"https://wuzzuf.net/search/jobs/?a=navbl%7Cspbl&filters%5Bcareer_level%5D%5B0%5D=Entry%20Level&filters%5Bcountry%5D%5B0%5D=Egypt&filters%5Byears_of_experience_max%5D%5B0%5D=1&filters%5Byears_of_experience_min%5D%5B0%5D=0&q=accountant&start=4\",\n",
    "  \"https://wuzzuf.net/search/jobs/?a=navbl%7Cspbl&filters%5Bcareer_level%5D%5B0%5D=Entry%20Level&filters%5Bcountry%5D%5B0%5D=Egypt&filters%5Byears_of_experience_max%5D%5B0%5D=1&filters%5Byears_of_experience_min%5D%5B0%5D=0&q=accountant&start=5\"\n",
    "]\n",
    "\n",
    "Data_analyst = [\n",
    "  \"https://wuzzuf.net/search/jobs/?a=navbl%7Cspbl&filters%5Bcareer_level%5D%5B0%5D=Entry%20Level&filters%5Byears_of_experience_max%5D%5B0%5D=1&filters%5Byears_of_experience_min%5D%5B0%5D=0&q=data%20analyst\",\n",
    "  \"https://wuzzuf.net/search/jobs/?a=navbl%7Cspbl&filters%5Bcareer_level%5D%5B0%5D=Entry%20Level&filters%5Byears_of_experience_max%5D%5B0%5D=1&filters%5Byears_of_experience_min%5D%5B0%5D=0&q=data%20analyst&start=1\"\n",
    "]\n",
    "\n",
    "Customer_service = [\n",
    "  \"https://wuzzuf.net/search/jobs/?a=navbl&filters%5Bcareer_level%5D%5B0%5D=Entry%20Level&filters%5Bcountry%5D%5B0%5D=Egypt&filters%5Byears_of_experience_max%5D%5B0%5D=1&filters%5Byears_of_experience_min%5D%5B0%5D=0&q=customer%20service%20&start=1\",\n",
    "  \"https://wuzzuf.net/search/jobs/?a=navbl&filters%5Bcareer_level%5D%5B0%5D=Entry%20Level&filters%5Bcountry%5D%5B0%5D=Egypt&filters%5Byears_of_experience_max%5D%5B0%5D=1&filters%5Byears_of_experience_min%5D%5B0%5D=0&q=customer%20service%20&start=2\",\n",
    "  \"https://wuzzuf.net/search/jobs/?a=navbl&filters%5Bcareer_level%5D%5B0%5D=Entry%20Level&filters%5Bcountry%5D%5B0%5D=Egypt&filters%5Byears_of_experience_max%5D%5B0%5D=1&filters%5Byears_of_experience_min%5D%5B0%5D=0&q=customer%20service%20&start=3\",\n",
    "  \"https://wuzzuf.net/search/jobs/?a=navbl&filters%5Bcareer_level%5D%5B0%5D=Entry%20Level&filters%5Bcountry%5D%5B0%5D=Egypt&filters%5Byears_of_experience_max%5D%5B0%5D=1&filters%5Byears_of_experience_min%5D%5B0%5D=0&q=customer%20service%20&start=4\",\n",
    "  \"https://wuzzuf.net/search/jobs/?a=navbl&filters%5Bcareer_level%5D%5B0%5D=Entry%20Level&filters%5Bcountry%5D%5B0%5D=Egypt&filters%5Byears_of_experience_max%5D%5B0%5D=1&filters%5Byears_of_experience_min%5D%5B0%5D=0&q=customer%20service%20&start=5\",\n",
    "  \"https://wuzzuf.net/search/jobs/?a=navbl&filters%5Bcareer_level%5D%5B0%5D=Entry%20Level&filters%5Bcountry%5D%5B0%5D=Egypt&filters%5Byears_of_experience_max%5D%5B0%5D=1&filters%5Byears_of_experience_min%5D%5B0%5D=0&q=customer%20service%20&start=6\",\n",
    "  \"https://wuzzuf.net/search/jobs/?a=navbl&filters%5Bcareer_level%5D%5B0%5D=Entry%20Level&filters%5Bcountry%5D%5B0%5D=Egypt&filters%5Byears_of_experience_max%5D%5B0%5D=1&filters%5Byears_of_experience_min%5D%5B0%5D=0&q=customer%20service%20&start=7\",\n",
    "  \"https://wuzzuf.net/search/jobs/?a=navbl&filters%5Bcareer_level%5D%5B0%5D=Entry%20Level&filters%5Bcountry%5D%5B0%5D=Egypt&filters%5Byears_of_experience_max%5D%5B0%5D=1&filters%5Byears_of_experience_min%5D%5B0%5D=0&q=customer%20service%20&start=8\"\n",
    "]\n",
    "\n",
    "Civil_engineer = [\n",
    "  \"https://wuzzuf.net/search/jobs/?a=navbl&filters%5Bcareer_level%5D%5B0%5D=Entry%20Level&filters%5Bcountry%5D%5B0%5D=Egypt&filters%5Byears_of_experience_max%5D%5B0%5D=1&filters%5Byears_of_experience_min%5D%5B0%5D=0&q=civil%20engineer%20\",\n",
    "  \"https://wuzzuf.net/search/jobs/?a=navbl&filters%5Bcareer_level%5D%5B0%5D=Entry%20Level&filters%5Bcountry%5D%5B0%5D=Egypt&filters%5Byears_of_experience_max%5D%5B0%5D=1&filters%5Byears_of_experience_min%5D%5B0%5D=0&q=civil%20engineer%20&start=1\",\n",
    "  \"https://wuzzuf.net/search/jobs/?a=navbl&filters%5Bcareer_level%5D%5B0%5D=Entry%20Level&filters%5Bcountry%5D%5B0%5D=Egypt&filters%5Byears_of_experience_max%5D%5B0%5D=1&filters%5Byears_of_experience_min%5D%5B0%5D=0&q=civil%20engineer%20&start=2\",\n",
    "  \"https://wuzzuf.net/search/jobs/?a=navbl&filters%5Bcareer_level%5D%5B0%5D=Entry%20Level&filters%5Bcountry%5D%5B0%5D=Egypt&filters%5Byears_of_experience_max%5D%5B0%5D=1&filters%5Byears_of_experience_min%5D%5B0%5D=0&q=civil%20engineer%20&start=3\"\n",
    "]"
   ]
  },
  {
   "cell_type": "code",
   "execution_count": null,
   "metadata": {},
   "outputs": [],
   "source": [
    "def is_valid_url(string):\n",
    "    url_pattern = re.compile(r'^(https?|ftp)://[^\\s/$.?#].[^\\s]*$')\n",
    "    return bool(url_pattern.match(string))\n",
    "\n",
    "def jobs_links(URLs):\n",
    "    job_list = []\n",
    "    links = []\n",
    "    for url in URLs:\n",
    "        response = requests.get(url)\n",
    "        soup = BeautifulSoup(response.text,'html.parser')\n",
    "        job_list.append(soup.find_all('div',class_ = \"css-pkv5jc\")) ## job list in each link\n",
    "        \n",
    "        urls = soup.find_all(\"a\",class_ = 'css-o171kl')\n",
    "        for url in urls:\n",
    "            href = url[\"href\"]\n",
    "            if (is_valid_url(href)):\n",
    "                # print(href) \n",
    "                links.append(href) ## links of each job in the link \n",
    "    return job_list , links "
   ]
  },
  {
   "cell_type": "code",
   "execution_count": null,
   "metadata": {},
   "outputs": [],
   "source": [
    "SWE_jobs , SWE_jobs_link = jobs_links(software_engineer)\n",
    "web_jobs , web_jobs_link = jobs_links(web_development)\n",
    "flutter_jobs , flutter_jobs_link = jobs_links(flutter_developer)\n",
    "acc_jobs , acc_jobs_link = jobs_links(Accountant)\n",
    "analyst_jobs , analyst_jobs_link = jobs_links(Data_analyst)\n",
    "CS_jobs , CS_jobs_link = jobs_links(Customer_service)\n",
    "CE_jobs , CE_jobs_link = jobs_links(Civil_engineer)"
   ]
  },
  {
   "cell_type": "code",
   "execution_count": null,
   "metadata": {},
   "outputs": [],
   "source": [
    "def job_info(jobs_list):\n",
    "    # jobTitle = []\n",
    "    companyName = []\n",
    "    jobLocation = []\n",
    "    for job in jobs_list:\n",
    "        for j in job:\n",
    "            # jobTitle.append( j.find(\"a\",class_ =\"css-o171kl\").text)\n",
    "            companyName.append(j.find('a',class_ = \"css-17s97q8\").text)\n",
    "            jobLocation.append(j.find('span',class_ = \"css-5wys0k\").text)  \n",
    "    return  companyName, jobLocation              "
   ]
  },
  {
   "cell_type": "code",
   "execution_count": null,
   "metadata": {},
   "outputs": [],
   "source": [
    "SWE_companyName , SWE_jobLocation = job_info(SWE_jobs)\n",
    "web_companyName , web_jobLocation = job_info(web_jobs)\n",
    "flutter_companyName , flutter_jobLocation = job_info(flutter_jobs)\n",
    "acc_companyName , acc_jobLocation = job_info(acc_jobs)\n",
    "analyst_companyName , analyst_jobLocation = job_info(analyst_jobs)\n",
    "CS_companyName , CS_jobLocation = job_info(CS_jobs)\n",
    "CE_companyName , CE_jobLocation = job_info(CE_jobs)"
   ]
  },
  {
   "cell_type": "code",
   "execution_count": null,
   "metadata": {},
   "outputs": [],
   "source": [
    "SWE_title = [\"Software Engineer\"] * len(SWE_companyName)\n",
    "web_title = [\"Web Developer\"] * len(web_companyName)\n",
    "flutter_title = [\"Flutter Developer\"] * len(flutter_companyName)\n",
    "acc_title = [\"Accountant\"] * len(acc_companyName)\n",
    "analyst_title = [\"Data Analyst\"] * len(analyst_companyName)\n",
    "CS_title = [\"Customer Service\"] * len(CS_companyName)\n",
    "CE_title = [\"Civil Engineer\"] * len(CE_companyName)"
   ]
  },
  {
   "cell_type": "code",
   "execution_count": null,
   "metadata": {},
   "outputs": [],
   "source": [
    "def job_description_requirements(URLs):\n",
    "    job_descrition = []\n",
    "    job_requirement = []\n",
    "    for link in URLs:\n",
    "        try:\n",
    "            client = urlopen(link)\n",
    "            html = client.read()\n",
    "            soup = BeautifulSoup(html , \"html.parser\")\n",
    "            desription = soup.find(\"div\",class_ = \"css-1uobp1k\")\n",
    "            job_descrition.append(desription.text)\n",
    "            try:   \n",
    "                requirement = soup.find(\"div\", class_ = \"css-1t5f0fr\")\n",
    "                job_requirement.append(requirement.text)\n",
    "                \n",
    "            except AttributeError:\n",
    "                # print(\"link ally feh moshkelt al requirements->>\", link)\n",
    "                job_requirement.append(\"NULL\")\n",
    "           \n",
    "        except UnicodeEncodeError:\n",
    "            job_descrition.append(\"NULL\")\n",
    "            # print(\"al link ally feh al moshkla->>\",link)\n",
    "        client.close()       \n",
    "    return job_descrition, job_requirement"
   ]
  },
  {
   "cell_type": "code",
   "execution_count": null,
   "metadata": {},
   "outputs": [],
   "source": [
    "SWE_desription , SWE_requirements = job_description_requirements(SWE_jobs_link)\n",
    "web_desription , web_requirements = job_description_requirements(web_jobs_link)\n",
    "flutter_desription , flutter_requirements = job_description_requirements(flutter_jobs_link)\n",
    "acc_desription , acc_requirements = job_description_requirements(acc_jobs_link)\n",
    "analyst_desription , analyst_requirements = job_description_requirements(analyst_jobs_link)\n",
    "CS_desription , CS_requirements = job_description_requirements(CS_jobs_link)\n",
    "CE_desription , CE_requirements = job_description_requirements(CE_jobs_link)"
   ]
  },
  {
   "cell_type": "markdown",
   "metadata": {},
   "source": [
    "# Final step "
   ]
  },
  {
   "cell_type": "code",
   "execution_count": null,
   "metadata": {},
   "outputs": [],
   "source": [
    "data = []\n",
    "\n",
    "def INFORMATION(swe,web,flutter,acc,CS,CE):\n",
    "    allINFO = []\n",
    "    for title in swe:\n",
    "        allINFO.append(title)\n",
    "    \n",
    "    for title2 in web:\n",
    "        allINFO.append(title2)\n",
    "    \n",
    "    for title3 in flutter:\n",
    "        allINFO.append(title3)\n",
    "    \n",
    "    for title4 in acc:\n",
    "        allINFO.append(title4)\n",
    "    \n",
    "    for title5 in CS:\n",
    "        allINFO.append(title5)\n",
    "    \n",
    "    for title6 in CE:\n",
    "        allINFO.append(title6)\n",
    "    \n",
    "    return allINFO\n",
    "\n",
    "Titles = INFORMATION(SWE_title,web_title,flutter_title,acc_title,CS_title,CE_title)\n",
    "companyName = INFORMATION(SWE_companyName,web_companyName,flutter_companyName,acc_companyName,CS_companyName,CE_companyName)\n",
    "jobLocation = INFORMATION(SWE_jobLocation,web_jobLocation,flutter_jobLocation,acc_jobLocation,CS_companyName,CE_jobLocation)\n",
    "Requirements = INFORMATION(SWE_requirements,web_requirements,flutter_requirements,acc_requirements,CS_requirements,CE_requirements)\n",
    "Description = INFORMATION(SWE_desription,web_desription,flutter_desription,acc_desription,CS_desription,CE_desription)\n",
    "\n",
    "data.append(Titles)\n",
    "data.append(companyName)\n",
    "data.append(jobLocation)\n",
    "data.append(Requirements)\n",
    "data.append(Description)"
   ]
  },
  {
   "cell_type": "code",
   "execution_count": null,
   "metadata": {},
   "outputs": [],
   "source": [
    "df = pd.DataFrame(data).transpose()\n",
    "df.columns=['job_title','company_name','job_location','job_requirement','job_description']"
   ]
  },
  {
   "cell_type": "code",
   "execution_count": null,
   "metadata": {},
   "outputs": [],
   "source": [
    "# df.to_csv(\"jobs.csv\")"
   ]
  }
 ],
 "metadata": {
  "kernelspec": {
   "display_name": "Python 3",
   "language": "python",
   "name": "python3"
  },
  "language_info": {
   "codemirror_mode": {
    "name": "ipython",
    "version": 3
   },
   "file_extension": ".py",
   "mimetype": "text/x-python",
   "name": "python",
   "nbconvert_exporter": "python",
   "pygments_lexer": "ipython3",
   "version": "3.11.2"
  }
 },
 "nbformat": 4,
 "nbformat_minor": 2
}
